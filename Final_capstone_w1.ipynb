{
 "cells": [
  {
   "cell_type": "markdown",
   "metadata": {},
   "source": [
    "<center>\n",
    "    <img src=\"https://alex-demo-tps-cos-standard-gdi.s3.us-south.cloud-object-storage.appdomain.cloud/b-tps-labs-01de03_2.png\"  width=\"640\" alt=\"TPS Header\" align=\"center\"/>\n",
    "</center>\n",
    "\n",
    "\n",
    "# Zero Contact Branches\n",
    "### Incidence relationship between types of business vs COVID indexes (Number of Negative Cases, number of confirmed cases and number of deaths)\n",
    "#### Alejandro Alvarado\n",
    "#### November, 2020\n",
    "\n",
    "## Objetive\n",
    "\n",
    "Capstone project - Week 1\n"
   ]
  },
  {
   "cell_type": "code",
   "execution_count": null,
   "metadata": {},
   "outputs": [],
   "source": []
  },
  {
   "cell_type": "markdown",
   "metadata": {},
   "source": [
    "## Background\n",
    "With the arrival of the pandemic, many businesses have required to accelerate their digital transformation processes, however, they have realized that this transformation is not only focused on digitizing work or reconverting their businesses, but also analyzing in depth the opportunities they have. and make an optimal management of investment resources.\n",
    "\n",
    "For this, and especially the financial sector, has put to work seeking to better understand its environment, adapt / improve its digital processes, as well as approach vulnerable areas derived from the pandemic with the possibility of opening a new type of branch called Zero Contact.\n"
   ]
  },
  {
   "cell_type": "markdown",
   "metadata": {},
   "source": [
    "# Problem Statement\n",
    "It has started with the exploration of a new branch expansion process based on Data Science. To do this, and due to the pandemic, you want to know how much relationship exists between the various <b> types of businesses </b> located in a geographical area vs the<b> Number of Negative Cases, number of confirmed cases, number of deaths </b>caused by COVID-19 ? With this, the correlation between the types of businesses and the indices mentioned can be determined to determine possible suitable areas for said branches.\n"
   ]
  },
  {
   "cell_type": "markdown",
   "metadata": {},
   "source": [
    "# Data\n",
    "To consider are (initially 2):\n",
    "\n",
    "From Foursquare ( <a href='https://foursquare.com/developers/apps'>https://foursquare.com/developers/apps</a> ) what type of businesses exist in the surroundings of a geographic area [Azcapotzalco].\n"
   ]
  },
  {
   "cell_type": "markdown",
   "metadata": {},
   "source": [
    "<img src='https://alex-demo-tps-cos-standard-gdi.s3.us-south.cloud-object-storage.appdomain.cloud/image001.jpg'\n",
    "     alt='Foursquare - Preview'\n",
    "     style='float: center; margin-right: 10px;' align='left' />"
   ]
  },
  {
   "cell_type": "markdown",
   "metadata": {},
   "source": [
    "From DGE - Covid19 open data (https://datos.covid-19.conacyt.mx/ , https://www.gob.mx/salud/documentos/datos-abiertos-152127 ), public information from [Azcapotzalco] on what the growth rates have been in three main metrics.\n",
    "\n",
    "1. Number of Negative Cases\n"
   ]
  },
  {
   "cell_type": "markdown",
   "metadata": {},
   "source": [
    "<img src='https://alex-demo-tps-cos-standard-gdi.s3.us-south.cloud-object-storage.appdomain.cloud/image002.png'\n",
    "     alt='COVID19 Mex'\n",
    "     style='float: center; margin-right: 10px;'  align='left'/>"
   ]
  },
  {
   "cell_type": "markdown",
   "metadata": {},
   "source": [
    "2. Number of confirmed cases"
   ]
  },
  {
   "cell_type": "markdown",
   "metadata": {},
   "source": [
    "<img src='https://alex-demo-tps-cos-standard-gdi.s3.us-south.cloud-object-storage.appdomain.cloud/image003.png'\n",
    "     alt='COVID19 Mex'\n",
    "     style='float: center; margin-right: 10px;'  align='left'/>"
   ]
  },
  {
   "cell_type": "markdown",
   "metadata": {},
   "source": [
    "3. Number of deaths"
   ]
  },
  {
   "cell_type": "markdown",
   "metadata": {},
   "source": [
    "<img src='https://alex-demo-tps-cos-standard-gdi.s3.us-south.cloud-object-storage.appdomain.cloud/image004.png'\n",
    "     alt='COVID19 Mex'\n",
    "     style='float: center; margin-right: 10px;'  align='left'/>"
   ]
  },
  {
   "cell_type": "markdown",
   "metadata": {},
   "source": [
    "### Thank you for review this!\n",
    "\n",
    "## Author\n",
    "\n",
    "<a href=\"#\" target=\"_blank\">Alex Alvarado</a>\n",
    "\n",
    "## Change Log\n",
    "\n",
    "| Date (YYYY-MM-DD) | Version | Changed By   | Change Description                 |\n",
    "| ----------------- | ------- | ------------ | ---------------------------------- |\n",
    "| 2020-11-01        | 0.9     | Alex         | Initial version Load/Filter/Map    |\n",
    "|                   |         |              |                                    |\n",
    "|                   |         |              |                                    |\n",
    "\n",
    "## <h3 align=\"center\"> © Alex A. 2020. All rights reserved. <h3/>"
   ]
  },
  {
   "cell_type": "code",
   "execution_count": null,
   "metadata": {},
   "outputs": [],
   "source": []
  }
 ],
 "metadata": {
  "kernelspec": {
   "display_name": "Python 3",
   "language": "python",
   "name": "python3"
  },
  "language_info": {
   "codemirror_mode": {
    "name": "ipython",
    "version": 3
   },
   "file_extension": ".py",
   "mimetype": "text/x-python",
   "name": "python",
   "nbconvert_exporter": "python",
   "pygments_lexer": "ipython3",
   "version": "3.7.1"
  }
 },
 "nbformat": 4,
 "nbformat_minor": 4
}
